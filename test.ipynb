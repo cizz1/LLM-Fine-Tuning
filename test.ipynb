{
 "cells": [
  {
   "cell_type": "code",
   "execution_count": 6,
   "metadata": {},
   "outputs": [
    {
     "name": "stdout",
     "output_type": "stream",
     "text": [
      "Predicted class: Class 1\n"
     ]
    }
   ],
   "source": [
    "from transformers import AutoModelForSequenceClassification, AutoTokenizer, AutoConfig\n",
    "\n",
    "model = AutoModelForSequenceClassification.     (\"shashaaa/fine_tune_embedd_SIH\")\n",
    "tokenizer = AutoTokenizer.from_pretrained(\"shashaaa/fine_tune_embedd_SIH\")\n",
    "\n",
    "# Prepare the test input\n",
    "test_text = \"section 8 in commercial courts\"\n",
    "inputs = tokenizer(test_text, return_tensors=\"pt\")\n",
    "\n",
    "# Make a prediction\n",
    "outputs = model(**inputs)\n",
    "logits = outputs.logits\n",
    "predicted_class = logits.argmax().item()\n",
    "\n",
    "# Interpret the prediction\n",
    "labels = [\"Class 0\", \"Class 1\"]  # Replace with your actual class labels\n",
    "print(f\"Predicted class: {labels[predicted_class]}\")"
   ]
  },
  {
   "cell_type": "code",
   "execution_count": null,
   "metadata": {},
   "outputs": [],
   "source": []
  }
 ],
 "metadata": {
  "kernelspec": {
   "display_name": "chatbot_new",
   "language": "python",
   "name": "python3"
  },
  "language_info": {
   "codemirror_mode": {
    "name": "ipython",
    "version": 3
   },
   "file_extension": ".py",
   "mimetype": "text/x-python",
   "name": "python",
   "nbconvert_exporter": "python",
   "pygments_lexer": "ipython3",
   "version": "3.10.14"
  }
 },
 "nbformat": 4,
 "nbformat_minor": 2
}
